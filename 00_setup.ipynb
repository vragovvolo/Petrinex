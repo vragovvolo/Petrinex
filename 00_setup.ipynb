{
 "cells": [
  {
   "cell_type": "code",
   "execution_count": 2,
   "id": "8e2f2b46",
   "metadata": {},
   "outputs": [],
   "source": [
    "from databricks.connect import DatabricksSession as SparkSession\n",
    "spark = SparkSession.builder.serverless(True).getOrCreate()"
   ]
  },
  {
   "cell_type": "code",
   "execution_count": 15,
   "id": "bad6d89a",
   "metadata": {},
   "outputs": [],
   "source": [
    "_ = spark.table('na').limit(1)"
   ]
  },
  {
   "cell_type": "code",
   "execution_count": 13,
   "id": "711a069f",
   "metadata": {},
   "outputs": [
    {
     "data": {
      "text/plain": [
       "True"
      ]
     },
     "execution_count": 13,
     "metadata": {},
     "output_type": "execute_result"
    }
   ],
   "source": [
    "from src.utils import table_exists\n",
    "\n",
    "table_exists(spark, \"shm.no.nope\")"
   ]
  },
  {
   "cell_type": "code",
   "execution_count": 8,
   "id": "49da00c0",
   "metadata": {},
   "outputs": [
    {
     "name": "stdout",
     "output_type": "stream",
     "text": [
      "Mock table 'mock_table' created with sample data.\n"
     ]
    }
   ],
   "source": [
    "# Create a mock Spark table for testing/demo purposes\n",
    "from pyspark.sql import Row\n",
    "\n",
    "data = [\n",
    "    Row(id=1, name=\"Alice\", value=10.5),\n",
    "    Row(id=2, name=\"Bob\", value=20.0),\n",
    "    Row(id=3, name=\"Charlie\", value=30.5),\n",
    "]\n",
    "df = spark.createDataFrame(data)\n",
    "df.createOrReplaceTempView(\"mock_table\")\n",
    "print(\"Mock table 'mock_table' created with sample data.\")"
   ]
  },
  {
   "cell_type": "code",
   "execution_count": 9,
   "id": "c25b0bcc",
   "metadata": {},
   "outputs": [
    {
     "name": "stdout",
     "output_type": "stream",
     "text": [
      "+---+-------+-----+\n",
      "| id|   name|value|\n",
      "+---+-------+-----+\n",
      "|  1|  Alice| 10.5|\n",
      "|  2|    Bob| 20.0|\n",
      "|  3|Charlie| 30.5|\n",
      "+---+-------+-----+\n",
      "\n"
     ]
    }
   ],
   "source": [
    "df.show()"
   ]
  }
 ],
 "metadata": {
  "kernelspec": {
   "display_name": ".venv",
   "language": "python",
   "name": "python3"
  },
  "language_info": {
   "codemirror_mode": {
    "name": "ipython",
    "version": 3
   },
   "file_extension": ".py",
   "mimetype": "text/x-python",
   "name": "python",
   "nbconvert_exporter": "python",
   "pygments_lexer": "ipython3",
   "version": "3.12.3"
  }
 },
 "nbformat": 4,
 "nbformat_minor": 5
}
