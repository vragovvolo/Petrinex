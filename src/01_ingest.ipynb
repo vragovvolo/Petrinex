{
 "cells": [
  {
   "cell_type": "markdown",
   "metadata": {
    "application/vnd.databricks.v1+cell": {
     "cellMetadata": {},
     "inputWidgets": {},
     "nuid": "9a626959-61c8-4bba-84d2-2a4ecab1f7ec",
     "showTitle": false,
     "title": ""
    }
   },
   "source": [
    "# Ingest\n",
    "\n",
    "This notebook downloads Petrinex data locally for processing."
   ]
  },
  {
   "cell_type": "code",
   "execution_count": 1,
   "metadata": {
    "application/vnd.databricks.v1+cell": {
     "cellMetadata": {},
     "inputWidgets": {},
     "nuid": "9198e987-5606-403d-9f6d-8f14e6a4017f",
     "showTitle": false,
     "title": ""
    }
   },
   "outputs": [],
   "source": [
    "from petrinex.ingest import download_petrinex_data\n",
    "from petrinex.config import DotConfig\n",
    "\n",
    "config = DotConfig('local_config.yaml')"
   ]
  },
  {
   "cell_type": "code",
   "execution_count": 2,
   "metadata": {},
   "outputs": [
    {
     "name": "stderr",
     "output_type": "stream",
     "text": [
      "WARNING:petrinex.ingest:Downloaded Vol 2024-01 – extracting files\n",
      "WARNING:petrinex.ingest:Downloaded Vol 2024-02 – extracting files\n",
      "WARNING:petrinex.ingest:Downloaded Vol 2024-03 – extracting files\n",
      "WARNING:petrinex.ingest:Downloaded Vol 2024-04 – extracting files\n",
      "WARNING:petrinex.ingest:Downloaded Vol 2024-05 – extracting files\n",
      "WARNING:petrinex.ingest:Downloaded Vol 2024-06 – extracting files\n",
      "WARNING:petrinex.ingest:Downloaded Vol 2024-07 – extracting files\n",
      "WARNING:petrinex.ingest:Downloaded Vol 2024-08 – extracting files\n",
      "WARNING:petrinex.ingest:Downloaded Vol 2024-09 – extracting files\n",
      "WARNING:petrinex.ingest:Downloaded Vol 2024-10 – extracting files\n",
      "WARNING:petrinex.ingest:Downloaded Vol 2024-11 – extracting files\n",
      "WARNING:petrinex.ingest:Downloaded Vol 2024-12 – extracting files\n",
      "WARNING:petrinex.ingest:Downloaded Vol 2025-01 – extracting files\n",
      "WARNING:petrinex.ingest:Downloaded Vol 2025-02 – extracting files\n",
      "WARNING:petrinex.ingest:Downloaded Vol 2025-03 – extracting files\n",
      "WARNING:petrinex.ingest:Downloaded Vol 2025-04 – extracting files\n",
      "WARNING:petrinex.ingest:Downloaded Vol 2025-05 – extracting files\n"
     ]
    }
   ],
   "source": [
    "if config.conventional.download:\n",
    "    download_petrinex_data(config, 'conventional')"
   ]
  },
  {
   "cell_type": "code",
   "execution_count": 3,
   "metadata": {},
   "outputs": [
    {
     "name": "stderr",
     "output_type": "stream",
     "text": [
      "WARNING:petrinex.ingest:Downloaded NGL 2024-01 – extracting files\n",
      "WARNING:petrinex.ingest:Downloaded NGL 2024-02 – extracting files\n",
      "WARNING:petrinex.ingest:Downloaded NGL 2024-03 – extracting files\n",
      "WARNING:petrinex.ingest:Downloaded NGL 2024-04 – extracting files\n",
      "WARNING:petrinex.ingest:Downloaded NGL 2024-05 – extracting files\n",
      "WARNING:petrinex.ingest:Downloaded NGL 2024-06 – extracting files\n",
      "WARNING:petrinex.ingest:Downloaded NGL 2024-07 – extracting files\n",
      "WARNING:petrinex.ingest:Downloaded NGL 2024-08 – extracting files\n",
      "WARNING:petrinex.ingest:Downloaded NGL 2024-09 – extracting files\n",
      "WARNING:petrinex.ingest:Downloaded NGL 2024-10 – extracting files\n",
      "WARNING:petrinex.ingest:Downloaded NGL 2024-11 – extracting files\n",
      "WARNING:petrinex.ingest:Downloaded NGL 2024-12 – extracting files\n",
      "WARNING:petrinex.ingest:Downloaded NGL 2025-01 – extracting files\n",
      "WARNING:petrinex.ingest:Downloaded NGL 2025-02 – extracting files\n",
      "WARNING:petrinex.ingest:Downloaded NGL 2025-03 – extracting files\n",
      "WARNING:petrinex.ingest:Downloaded NGL 2025-04 – extracting files\n",
      "WARNING:petrinex.ingest:Downloaded NGL 2025-05 – extracting files\n"
     ]
    }
   ],
   "source": [
    "if config.ngl.download:\n",
    "    download_petrinex_data(config, 'ngl')"
   ]
  }
 ],
 "metadata": {
  "application/vnd.databricks.v1+notebook": {
   "dashboards": [],
   "language": "python",
   "notebookMetadata": {
    "pythonIndentUnit": 2
   },
   "notebookName": "dlt_pipeline",
   "widgets": {}
  },
  "kernelspec": {
   "display_name": ".venv",
   "language": "python",
   "name": "python3"
  },
  "language_info": {
   "codemirror_mode": {
    "name": "ipython",
    "version": 3
   },
   "file_extension": ".py",
   "mimetype": "text/x-python",
   "name": "python",
   "nbconvert_exporter": "python",
   "pygments_lexer": "ipython3",
   "version": "3.12.3"
  }
 },
 "nbformat": 4,
 "nbformat_minor": 0
}
