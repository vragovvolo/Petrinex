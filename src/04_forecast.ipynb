{
 "cells": [
  {
   "cell_type": "markdown",
   "metadata": {
    "application/vnd.databricks.v1+cell": {
     "cellMetadata": {},
     "inputWidgets": {},
     "nuid": "ee353e42-ff58-4955-9608-12865bd0950e",
     "showTitle": false,
     "title": ""
    }
   },
   "source": [
    "# Forecasting\n",
    "\n",
    "In order to generate models, quality checks, reserves, etc., we need forecasts of the well production. This notebook demonstrates:\n",
    "\n",
    "1. **Data Processing**: Preparing well production data for forecasting\n",
    "2. **ARPS Decline Curves**: Automatically fitting exponential, hyperbolic, and harmonic decline curves\n",
    "3. **Forecasting**: Generating production forecasts for individual wells\n",
    "\n",
    "## ARPS Decline Curves\n",
    "\n",
    "The Arps decline curve equations are fundamental tools in petroleum engineering for forecasting oil and gas production:\n",
    "\n",
    "- **Exponential Decline (b=0)**: `q(t) = qi * exp(-Di * t)`\n",
    "- **Hyperbolic Decline (0<b<1)**: `q(t) = qi * (1 + b * Di * t)^(-1/b)`\n",
    "- **Harmonic Decline (b=1)**: `q(t) = qi / (1 + Di * t)`\n",
    "\n",
    "Where:\n",
    "- `qi` = initial production rate\n",
    "- `Di` = initial decline rate\n",
    "- `b` = decline exponent\n",
    "- `t` = time"
   ]
  },
  {
   "cell_type": "code",
   "execution_count": null,
   "metadata": {
    "application/vnd.databricks.v1+cell": {
     "cellMetadata": {
      "byteLimit": 2048000,
      "rowLimit": 10000
     },
     "inputWidgets": {},
     "nuid": "6bca260b-13d1-448f-8082-30b60a85c9ae",
     "showTitle": false,
     "title": ""
    }
   },
   "outputs": [],
   "source": [
    "import pandas as pd\n",
    "import matplotlib.pyplot as plt\n",
    "import numpy as np\n",
    "\n",
    "from petrinex.config import DotConfig\n",
    "from petrinex.forecast import (\n",
    "    prepare_well_data,\n",
    "    forecast_well_production,\n",
    "    forecast_multiple_wells,\n",
    "    export_forecast_summary_table,\n",
    "    export_forecasted_production_table,\n",
    "    combine_historical_and_forecast\n",
    ")"
   ]
  },
  {
   "cell_type": "code",
   "execution_count": null,
   "metadata": {},
   "outputs": [],
   "source": [
    "config = DotConfig(\"local_config.yaml\")"
   ]
  },
  {
   "cell_type": "code",
   "execution_count": null,
   "metadata": {},
   "outputs": [],
   "source": [
    "# Load fixture data for development/testing\n",
    "ngl_df = pd.read_parquet(\"../fixtures/ngl_vol_silver.parquet\")"
   ]
  },
  {
   "cell_type": "code",
   "execution_count": null,
   "metadata": {},
   "outputs": [],
   "source": [
    "# Prepare well data for forecasting\n",
    "processed_data = prepare_well_data(ngl_df, min_months=6)\n",
    "sample_well = processed_data['WellID'].iloc[0] if len(processed_data) > 0 else None"
   ]
  },
  {
   "cell_type": "code",
   "execution_count": null,
   "metadata": {},
   "outputs": [],
   "source": [
    "# Forecast a single well\n",
    "if sample_well:\n",
    "    sample_well_data = processed_data[processed_data['WellID'] == sample_well].copy()\n",
    "    \n",
    "    # Forecast gas production\n",
    "    gas_forecast = forecast_well_production(\n",
    "        sample_well_data, \n",
    "        forecast_months=12, \n",
    "        production_column='GasProduction'\n",
    "    )"
   ]
  },
  {
   "cell_type": "code",
   "execution_count": null,
   "metadata": {},
   "outputs": [],
   "source": [
    "# Optional: Plot the forecast\n",
    "if sample_well and gas_forecast['success']:\n",
    "    fig, ax = plt.subplots(figsize=(10, 6))\n",
    "    \n",
    "    # Historical data\n",
    "    hist_data = gas_forecast['historical_data']\n",
    "    hist_data_filtered = hist_data[hist_data['GasProduction'] > 0]\n",
    "    \n",
    "    ax.scatter(hist_data_filtered['DaysFromFirst'], hist_data_filtered['GasProduction'],\n",
    "               alpha=0.7, label='Historical', color='blue')\n",
    "    \n",
    "    # Forecast\n",
    "    forecast_data = gas_forecast['forecast']\n",
    "    ax.plot(forecast_data['DaysFromFirst'], forecast_data['GasProduction_Forecast'],\n",
    "            'r-', label='Forecast', linewidth=2)\n",
    "    \n",
    "    ax.set_xlabel('Days from First Production')\n",
    "    ax.set_ylabel('Gas Production')\n",
    "    ax.set_title(f'{sample_well} Gas Forecast')\n",
    "    ax.legend()\n",
    "    ax.grid(True, alpha=0.3)\n",
    "    plt.show()\n"
   ]
  },
  {
   "cell_type": "code",
   "execution_count": null,
   "metadata": {},
   "outputs": [],
   "source": [
    "# Batch forecast multiple wells\n",
    "gas_forecasts = forecast_multiple_wells(\n",
    "    processed_data,\n",
    "    forecast_months=12,\n",
    "    production_column='GasProduction', \n",
    "    curve_type='auto',\n",
    "    min_r_squared=0.5\n",
    ")\n"
   ]
  },
  {
   "cell_type": "code",
   "execution_count": null,
   "metadata": {},
   "outputs": [],
   "source": [
    "# Export forecast results\n",
    "gas_summary_table = export_forecast_summary_table(gas_forecasts, \"GasProduction\")\n",
    "gas_forecast_production = export_forecasted_production_table(gas_forecasts, \"GasProduction\", processed_data)\n"
   ]
  },
  {
   "cell_type": "code",
   "execution_count": null,
   "metadata": {},
   "outputs": [],
   "source": [
    "# Save results to files\n",
    "if len(gas_summary_table) > 0:\n",
    "    gas_summary_table.to_parquet(\"../fixtures/gas_forecast_summary.parquet\", index=False)\n",
    "\n",
    "if len(gas_forecast_production) > 0:\n",
    "    gas_forecast_production.to_parquet(\"../fixtures/gas_forecasted_production.parquet\", index=False)\n",
    "    \n",
    "    # Combine historical and forecast data\n",
    "    combined_gas_data = combine_historical_and_forecast(\n",
    "        processed_data, gas_forecast_production, \"GasProduction\"\n",
    "    )\n",
    "    combined_gas_data.to_parquet(\"../fixtures/gas_historical_forecast_combined.parquet\", index=False)\n"
   ]
  },
  {
   "cell_type": "code",
   "execution_count": null,
   "metadata": {},
   "outputs": [],
   "source": [
    "print(f\"Forecasting complete. Generated forecasts for {len(gas_forecasts)} wells.\")\n"
   ]
  },
  {
   "cell_type": "code",
   "execution_count": null,
   "metadata": {},
   "outputs": [],
   "source": [
    "\n"
   ]
  }
 ],
 "metadata": {
  "application/vnd.databricks.v1+notebook": {
   "dashboards": [],
   "language": "python",
   "notebookMetadata": {
    "pythonIndentUnit": 2
   },
   "notebookName": "notebook",
   "widgets": {}
  },
  "kernelspec": {
   "display_name": ".venv",
   "language": "python",
   "name": "python3"
  },
  "language_info": {
   "codemirror_mode": {
    "name": "ipython",
    "version": 3
   },
   "file_extension": ".py",
   "mimetype": "text/x-python",
   "name": "python",
   "nbconvert_exporter": "python",
   "pygments_lexer": "ipython3",
   "version": "3.12.3"
  }
 },
 "nbformat": 4,
 "nbformat_minor": 0
}
