{
 "cells": [
  {
   "cell_type": "markdown",
   "metadata": {
    "application/vnd.databricks.v1+cell": {
     "cellMetadata": {},
     "inputWidgets": {},
     "nuid": "ee353e42-ff58-4955-9608-12865bd0950e",
     "showTitle": false,
     "title": ""
    }
   },
   "source": [
    "# Forecasting\n",
    "\n",
    "In order to generate models, quality checks, reserves, etc., we need forecasts of the well production. This notebook demonstrates:\n",
    "\n",
    "1. **Data Processing**: Preparing well production data for forecasting\n",
    "2. **ARPS Decline Curves**: Automatically fitting exponential, hyperbolic, and harmonic decline curves\n",
    "3. **Forecasting**: Generating production forecasts for individual wells\n",
    "\n",
    "## ARPS Decline Curves\n",
    "\n",
    "The Arps decline curve equations are fundamental tools in petroleum engineering for forecasting oil and gas production:\n",
    "\n",
    "- **Exponential Decline (b=0)**: `q(t) = qi * exp(-Di * t)`\n",
    "- **Hyperbolic Decline (0<b<1)**: `q(t) = qi * (1 + b * Di * t)^(-1/b)`\n",
    "- **Harmonic Decline (b=1)**: `q(t) = qi / (1 + Di * t)`\n",
    "\n",
    "Where:\n",
    "- `qi` = initial production rate\n",
    "- `Di` = initial decline rate\n",
    "- `b` = decline exponent\n",
    "- `t` = time"
   ]
  },
  {
   "cell_type": "code",
   "execution_count": null,
   "metadata": {},
   "outputs": [
    {
     "data": {
      "text/plain": [
       "'Volumes/shm/petrinex/bronze/conventional/*.CSV'"
      ]
     },
     "metadata": {},
     "output_type": "display_data"
    }
   ],
   "source": [
    "csv_path_pattern"
   ]
  },
  {
   "cell_type": "code",
   "execution_count": null,
   "metadata": {
    "application/vnd.databricks.v1+cell": {
     "cellMetadata": {
      "byteLimit": 2048000,
      "rowLimit": 10000
     },
     "inputWidgets": {},
     "nuid": "6bca260b-13d1-448f-8082-30b60a85c9ae",
     "showTitle": false,
     "title": ""
    }
   },
   "outputs": [],
   "source": [
    "import pandas as pd\n",
    "import matplotlib.pyplot as plt\n",
    "import numpy as np\n",
    "from databricks.connect import DatabricksSession as SparkSession\n",
    "\n",
    "from petrinex.config import load_config\n",
    "from petrinex.forecast import (\n",
    "    prepare_well_data,\n",
    "    forecast_well_production,\n",
    "    forecast_multiple_wells,\n",
    "    export_forecast_summary_table,\n",
    "    export_forecasted_production_table,\n",
    "    combine_historical_and_forecast\n",
    ")"
   ]
  },
  {
   "cell_type": "code",
   "execution_count": 20,
   "metadata": {},
   "outputs": [],
   "source": [
    "spark = SparkSession.builder.getOrCreate()\n",
    "config = load_config(\"config.yaml\")"
   ]
  },
  {
   "cell_type": "code",
   "execution_count": null,
   "metadata": {},
   "outputs": [],
   "source": [
    "# Load fixture data for development/testing\n",
    "ngl_df = pd.read_parquet(\"../fixtures/ngl_vol_bronze_cvx.parquet\")\n",
    "print(f\"Loaded NGL data: {ngl_df.shape[0]} records, {ngl_df['WellID'].nunique()} unique wells\")\n",
    "\n",
    "# For production use with Databricks, uncomment the following:\n",
    "# conv_df = spark.table(\"shm.petrinex.conv_vol_bronze\").toPandas()\n",
    "# ngl_df = spark.table(\"shm.petrinex.ngl_vol_bronze\").toPandas()"
   ]
  },
  {
   "cell_type": "code",
   "execution_count": null,
   "metadata": {},
   "outputs": [],
   "source": [
    "# Step 1: Prepare well data for forecasting\n",
    "processed_data = prepare_well_data(ngl_df, min_months=12)\n",
    "print(f\"After processing: {processed_data['WellID'].nunique()} wells with 12+ months of data\")\n",
    "\n",
    "# Show sample of processed data\n",
    "print(\"\\nSample processed data:\")\n",
    "sample_well = processed_data['WellID'].iloc[0]\n",
    "sample_data = processed_data[processed_data['WellID'] == sample_well][\n",
    "    ['ProductionMonth', 'WellID', 'OilProduction', 'GasProduction', 'DaysFromFirst']\n",
    "].head(10)\n",
    "print(sample_data)"
   ]
  },
  {
   "cell_type": "code",
   "execution_count": null,
   "metadata": {},
   "outputs": [],
   "source": [
    "# Step 2: Forecast a single well to demonstrate the process\n",
    "sample_well_data = processed_data[processed_data['WellID'] == sample_well].copy()\n",
    "\n",
    "# Forecast oil production\n",
    "oil_forecast = forecast_well_production(\n",
    "    sample_well_data, \n",
    "    forecast_months=24, \n",
    "    production_column='OilProduction'\n",
    ")\n",
    "\n",
    "if oil_forecast['success']:\n",
    "    print(f\"Oil Forecast for {sample_well}:\")\n",
    "    print(f\"  Curve Type: {oil_forecast['curve_type']}\")\n",
    "    print(f\"  R-squared: {oil_forecast['r_squared']:.3f}\")\n",
    "    print(f\"  Parameters: {oil_forecast['parameters']}\")\n",
    "else:\n",
    "    print(f\"Oil forecast failed: {oil_forecast['error']}\")\n",
    "\n",
    "# Forecast gas production\n",
    "gas_forecast = forecast_well_production(\n",
    "    sample_well_data, \n",
    "    forecast_months=24, \n",
    "    production_column='GasProduction'\n",
    ")\n",
    "\n",
    "if gas_forecast['success']:\n",
    "    print(f\"\\nGas Forecast for {sample_well}:\")\n",
    "    print(f\"  Curve Type: {gas_forecast['curve_type']}\")\n",
    "    print(f\"  R-squared: {gas_forecast['r_squared']:.3f}\")\n",
    "    print(f\"  Parameters: {gas_forecast['parameters']}\")\n",
    "else:\n",
    "    print(f\"Gas forecast failed: {gas_forecast['error']}\")"
   ]
  },
  {
   "cell_type": "code",
   "execution_count": null,
   "metadata": {},
   "outputs": [],
   "source": [
    "# Step 3: Visualize the forecast\n",
    "def plot_forecast(forecast_result, production_column='OilProduction'):\n",
    "    \"\"\"Plot historical data and forecast for a well.\"\"\"\n",
    "    if not forecast_result['success']:\n",
    "        print(f\"Cannot plot: {forecast_result['error']}\")\n",
    "        return\n",
    "    \n",
    "    fig, ax = plt.subplots(figsize=(12, 6))\n",
    "    \n",
    "    # Historical data\n",
    "    hist_data = forecast_result['historical_data']\n",
    "    hist_data_filtered = hist_data[hist_data[production_column] > 0]\n",
    "    \n",
    "    ax.scatter(\n",
    "        hist_data_filtered['DaysFromFirst'], \n",
    "        hist_data_filtered[production_column],\n",
    "        alpha=0.7, \n",
    "        label='Historical Data',\n",
    "        color='blue'\n",
    "    )\n",
    "    \n",
    "    # Forecast\n",
    "    forecast_data = forecast_result['forecast']\n",
    "    ax.plot(\n",
    "        forecast_data['DaysFromFirst'], \n",
    "        forecast_data[f'{production_column}_Forecast'],\n",
    "        'r-', \n",
    "        label=f'{forecast_result[\"curve_type\"].title()} Forecast',\n",
    "        linewidth=2\n",
    "    )\n",
    "    \n",
    "    ax.set_xlabel('Days from First Production')\n",
    "    ax.set_ylabel(f'{production_column} Rate')\n",
    "    ax.set_title(f'{forecast_result[\"well_id\"]} - {production_column} Forecast\\\\n'\n",
    "                f'{forecast_result[\"curve_type\"].title()} Curve (R² = {forecast_result[\"r_squared\"]:.3f})')\n",
    "    ax.legend()\n",
    "    ax.grid(True, alpha=0.3)\n",
    "    \n",
    "    plt.tight_layout()\n",
    "    plt.show()\n",
    "\n",
    "# Plot the oil forecast\n",
    "if oil_forecast['success']:\n",
    "    plot_forecast(oil_forecast, 'OilProduction')\n",
    "\n",
    "# Plot the gas forecast  \n",
    "if gas_forecast['success']:\n",
    "    plot_forecast(gas_forecast, 'GasProduction')\n"
   ]
  },
  {
   "cell_type": "code",
   "execution_count": null,
   "metadata": {},
   "outputs": [],
   "source": [
    "# Step 4: Batch forecast multiple wells\n",
    "print(\"Running batch forecasting for all wells...\")\n",
    "\n",
    "# Forecast oil production for all wells\n",
    "oil_forecasts = forecast_multiple_wells(\n",
    "    processed_data,\n",
    "    forecast_months=24,\n",
    "    production_column='OilProduction',\n",
    "    curve_type='auto',\n",
    "    min_r_squared=0.5\n",
    ")\n",
    "\n",
    "# Forecast gas production for all wells\n",
    "gas_forecasts = forecast_multiple_wells(\n",
    "    processed_data,\n",
    "    forecast_months=24,\n",
    "    production_column='GasProduction', \n",
    "    curve_type='auto',\n",
    "    min_r_squared=0.5\n",
    ")\n",
    "\n",
    "print(f\"\\nOil Forecasting Results:\")\n",
    "print(f\"  Successfully forecast {len(oil_forecasts)} wells\")\n",
    "\n",
    "print(f\"\\nGas Forecasting Results:\")\n",
    "print(f\"  Successfully forecast {len(gas_forecasts)} wells\")\n"
   ]
  },
  {
   "cell_type": "code",
   "execution_count": null,
   "metadata": {},
   "outputs": [],
   "source": [
    "# Step 5: Analyze forecasting results\n",
    "def analyze_forecast_results(forecasts, production_type):\n",
    "    \"\"\"Analyze and summarize forecasting results.\"\"\"\n",
    "    if not forecasts:\n",
    "        print(f\"No successful {production_type} forecasts to analyze\")\n",
    "        return\n",
    "    \n",
    "    # Collect statistics\n",
    "    curve_types = [f['curve_type'] for f in forecasts.values()]\n",
    "    r_squared_values = [f['r_squared'] for f in forecasts.values()]\n",
    "    \n",
    "    print(f\"\\n{production_type} Forecasting Analysis:\")\n",
    "    print(f\"  Total wells forecast: {len(forecasts)}\")\n",
    "    print(f\"  Average R-squared: {np.mean(r_squared_values):.3f}\")\n",
    "    print(f\"  Median R-squared: {np.median(r_squared_values):.3f}\")\n",
    "    print(f\"  Min R-squared: {np.min(r_squared_values):.3f}\")\n",
    "    print(f\"  Max R-squared: {np.max(r_squared_values):.3f}\")\n",
    "    \n",
    "    # Curve type distribution\n",
    "    from collections import Counter\n",
    "    curve_counts = Counter(curve_types)\n",
    "    print(f\"  Curve type distribution:\")\n",
    "    for curve_type, count in curve_counts.most_common():\n",
    "        pct = 100 * count / len(forecasts)\n",
    "        print(f\"    {curve_type.title()}: {count} wells ({pct:.1f}%)\")\n",
    "\n",
    "# Analyze results\n",
    "analyze_forecast_results(oil_forecasts, \"Oil\")\n",
    "analyze_forecast_results(gas_forecasts, \"Gas\")\n"
   ]
  },
  {
   "cell_type": "code",
   "execution_count": null,
   "metadata": {},
   "outputs": [],
   "source": [
    "# Step 6: Export forecast results as structured tables\n",
    "\n",
    "# Export forecast summary tables\n",
    "oil_summary_table = export_forecast_summary_table(oil_forecasts, \"OilProduction\")\n",
    "gas_summary_table = export_forecast_summary_table(gas_forecasts, \"GasProduction\")\n",
    "\n",
    "print(\"Forecast Summary Tables:\")\n",
    "print(f\"Oil forecasts: {len(oil_summary_table)} wells\")\n",
    "print(f\"Gas forecasts: {len(gas_summary_table)} wells\")\n",
    "\n",
    "# Display sample summary data\n",
    "if len(oil_summary_table) > 0:\n",
    "    print(\"\\nOil Forecast Summary (first 3 wells):\")\n",
    "    print(oil_summary_table.head(3))\n",
    "\n",
    "if len(gas_summary_table) > 0:\n",
    "    print(\"\\nGas Forecast Summary (first 3 wells):\")\n",
    "    print(gas_summary_table.head(3)[['WellID', 'CurveType', 'RSquared', 'InitialRate_qi', 'DeclineRate_di', 'ForecastCumulative12Month']])\n",
    "\n",
    "# Export to CSV\n",
    "oil_summary_table.to_csv(\"oil_forecast_summary.csv\", index=False)\n",
    "gas_summary_table.to_csv(\"gas_forecast_summary.csv\", index=False)\n",
    "print(f\"\\nExported summary tables to CSV files\")\n"
   ]
  },
  {
   "cell_type": "code",
   "execution_count": null,
   "metadata": {},
   "outputs": [],
   "source": [
    "# Step 7: Export forecasted production data with same schema as input\n",
    "\n",
    "# Export forecasted production tables (same schema as original NGL data)\n",
    "oil_forecast_production = export_forecasted_production_table(oil_forecasts, \"OilProduction\", processed_data)\n",
    "gas_forecast_production = export_forecasted_production_table(gas_forecasts, \"GasProduction\", processed_data)\n",
    "\n",
    "print(\"Forecasted Production Tables:\")\n",
    "print(f\"Oil production forecasts: {len(oil_forecast_production)} records\")\n",
    "print(f\"Gas production forecasts: {len(gas_forecast_production)} records\")\n",
    "\n",
    "# Display sample of forecasted production data\n",
    "if len(gas_forecast_production) > 0:\n",
    "    print(\"\\nSample Gas Forecasted Production Data:\")\n",
    "    sample_forecast = gas_forecast_production.head(5)\n",
    "    print(sample_forecast[['WellID', 'ProductionMonth', 'GasProduction', 'DataType', 'ForecastMethod', 'ForecastRSquared']])\n",
    "\n",
    "# Combine historical and forecast data for gas production\n",
    "if len(gas_forecast_production) > 0:\n",
    "    combined_gas_data = combine_historical_and_forecast(\n",
    "        processed_data, \n",
    "        gas_forecast_production, \n",
    "        \"GasProduction\"\n",
    "    )\n",
    "    \n",
    "    print(f\"\\nCombined historical + forecast data: {len(combined_gas_data)} records\")\n",
    "    print(f\"Historical records: {(combined_gas_data['DataType'] == 'Historical').sum()}\")\n",
    "    print(f\"Forecast records: {(combined_gas_data['DataType'] == 'Forecast').sum()}\")\n",
    "    \n",
    "    # Show sample of combined data for one well\n",
    "    sample_well = gas_forecast_production['WellID'].iloc[0]\n",
    "    well_combined = combined_gas_data[combined_gas_data['WellID'] == sample_well]\n",
    "    print(f\"\\nSample combined data for well {sample_well}:\")\n",
    "    print(well_combined[['ProductionMonth', 'GasProduction', 'DataType', 'ForecastMethod']].tail(10))\n"
   ]
  },
  {
   "cell_type": "code",
   "execution_count": null,
   "metadata": {},
   "outputs": [],
   "source": [
    "# Step 8: Export all tables to files\n",
    "\n",
    "# Export forecasted production tables\n",
    "if len(oil_forecast_production) > 0:\n",
    "    oil_forecast_production.to_csv(\"oil_forecasted_production.csv\", index=False)\n",
    "    oil_forecast_production.to_parquet(\"oil_forecasted_production.parquet\", index=False)\n",
    "    print(f\"Exported oil forecasted production: {len(oil_forecast_production)} records\")\n",
    "\n",
    "if len(gas_forecast_production) > 0:\n",
    "    gas_forecast_production.to_csv(\"gas_forecasted_production.csv\", index=False)\n",
    "    gas_forecast_production.to_parquet(\"gas_forecasted_production.parquet\", index=False)\n",
    "    print(f\"Exported gas forecasted production: {len(gas_forecast_production)} records\")\n",
    "\n",
    "# Export combined historical + forecast data\n",
    "if len(gas_forecast_production) > 0:\n",
    "    combined_gas_data.to_csv(\"combined_gas_historical_forecast.csv\", index=False)\n",
    "    combined_gas_data.to_parquet(\"combined_gas_historical_forecast.parquet\", index=False)\n",
    "    print(f\"Exported combined gas data: {len(combined_gas_data)} records\")\n",
    "\n",
    "print(\"\\nExported Files:\")\n",
    "print(\"- Forecast summaries: oil_forecast_summary.csv, gas_forecast_summary.csv\")\n",
    "print(\"- Forecasted production: oil_forecasted_production.csv/.parquet, gas_forecasted_production.csv/.parquet\") \n",
    "print(\"- Combined data: combined_gas_historical_forecast.csv/.parquet\")\n",
    "\n",
    "print(\"\\nAll tables maintain schema compatibility with original NGL input data!\")\n"
   ]
  }
 ],
 "metadata": {
  "application/vnd.databricks.v1+notebook": {
   "dashboards": [],
   "language": "python",
   "notebookMetadata": {
    "pythonIndentUnit": 2
   },
   "notebookName": "notebook",
   "widgets": {}
  },
  "kernelspec": {
   "display_name": ".venv",
   "language": "python",
   "name": "python3"
  },
  "language_info": {
   "codemirror_mode": {
    "name": "ipython",
    "version": 3
   },
   "file_extension": ".py",
   "mimetype": "text/x-python",
   "name": "python",
   "nbconvert_exporter": "python",
   "pygments_lexer": "ipython3",
   "version": "3.12.3"
  }
 },
 "nbformat": 4,
 "nbformat_minor": 0
}
