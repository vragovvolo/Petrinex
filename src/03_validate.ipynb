{
  "cells": [
    {
      "cell_type": "raw",
      "metadata": {
        "vscode": {
          "languageId": "raw"
        }
      },
      "source": [
        "# Data Validation\n",
        "\n",
        "This notebook validates the processed data quality and provides basic statistics.\n"
      ]
    },
    {
      "cell_type": "code",
      "execution_count": null,
      "metadata": {},
      "outputs": [],
      "source": [
        "import pandas as pd\n",
        "from pathlib import Path\n",
        "\n",
        "# Load data from fixtures (created by 02_process.ipynb)\n",
        "fixtures_path = Path(\"../fixtures\")"
      ]
    },
    {
      "cell_type": "code",
      "execution_count": null,
      "metadata": {},
      "outputs": [],
      "source": [
        "# Load available data files\n",
        "ngl_files = list(fixtures_path.glob(\"*ngl*.parquet\"))\n",
        "conv_files = list(fixtures_path.glob(\"*conv*.parquet\"))\n",
        "\n",
        "print(f\"Available NGL files: {len(ngl_files)}\")\n",
        "print(f\"Available Conv files: {len(conv_files)}\")\n"
      ]
    },
    {
      "cell_type": "code",
      "execution_count": null,
      "metadata": {},
      "outputs": [],
      "source": [
        "# Basic data validation function\n",
        "def validate_dataframe(df, name):\n",
        "    \"\"\"Basic validation of dataframe.\"\"\"\n",
        "    issues = []\n",
        "    \n",
        "    # Check for null values in key columns\n",
        "    if 'WellID' in df.columns:\n",
        "        null_wells = df['WellID'].isnull().sum()\n",
        "        if null_wells > 0:\n",
        "            issues.append(f\"{null_wells} rows with null WellID\")\n",
        "    \n",
        "    # Check for negative production values\n",
        "    prod_cols = [col for col in df.columns if 'Production' in col or 'Volume' in col]\n",
        "    for col in prod_cols:\n",
        "        if df[col].dtype in ['float64', 'int64']:\n",
        "            negative_count = (df[col] < 0).sum()\n",
        "            if negative_count > 0:\n",
        "                issues.append(f\"{negative_count} negative values in {col}\")\n",
        "    \n",
        "    return issues\n"
      ]
    },
    {
      "cell_type": "code",
      "execution_count": null,
      "metadata": {},
      "outputs": [],
      "source": [
        "# Validate available files\n",
        "if ngl_files:\n",
        "    print(\"\\nValidating NGL data:\")\n",
        "    for file_path in ngl_files[:2]:  # Check first 2 files\n",
        "        df = pd.read_parquet(file_path)\n",
        "        issues = validate_dataframe(df, file_path.name)\n",
        "        print(f\"  {file_path.name}: {len(df):,} rows\")\n",
        "        if issues:\n",
        "            for issue in issues:\n",
        "                print(f\"    - {issue}\")\n",
        "        else:\n",
        "            print(f\"    - No issues found\")\n",
        "\n",
        "if conv_files:\n",
        "    print(\"\\nValidating Conventional data:\")\n",
        "    for file_path in conv_files[:2]:  # Check first 2 files\n",
        "        df = pd.read_parquet(file_path)\n",
        "        issues = validate_dataframe(df, file_path.name)\n",
        "        print(f\"  {file_path.name}: {len(df):,} rows\")\n",
        "        if issues:\n",
        "            for issue in issues:\n",
        "                print(f\"    - {issue}\")\n",
        "        else:\n",
        "            print(f\"    - No issues found\")\n"
      ]
    },
    {
      "cell_type": "code",
      "execution_count": null,
      "metadata": {},
      "outputs": [],
      "source": [
        "print(\"\\nValidation complete. Data is ready for forecasting.\")\n"
      ]
    }
  ],
  "metadata": {
    "language_info": {
      "name": "python"
    }
  },
  "nbformat": 4,
  "nbformat_minor": 2
}
